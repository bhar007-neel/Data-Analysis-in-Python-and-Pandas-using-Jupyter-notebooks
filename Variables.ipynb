{
 "cells": [
  {
   "cell_type": "markdown",
   "id": "d99c5b18-0175-4092-894f-8464580f7523",
   "metadata": {},
   "source": [
    "# Variable in Python"
   ]
  },
  {
   "cell_type": "code",
   "execution_count": 2,
   "id": "5984e4df-4d96-444c-8ed5-7c28094cf2d6",
   "metadata": {},
   "outputs": [
    {
     "name": "stdout",
     "output_type": "stream",
     "text": [
      "22\n"
     ]
    }
   ],
   "source": [
    "x=22\n",
    "print(x)"
   ]
  },
  {
   "cell_type": "code",
   "execution_count": 4,
   "id": "be8cb214-cb31-4d96-880d-342a85a10410",
   "metadata": {},
   "outputs": [
    {
     "data": {
      "text/plain": [
       "int"
      ]
     },
     "execution_count": 4,
     "metadata": {},
     "output_type": "execute_result"
    }
   ],
   "source": [
    "type(x)"
   ]
  },
  {
   "cell_type": "code",
   "execution_count": 6,
   "id": "b79aaee9-d8eb-47b8-837e-edcd6cb1bf3c",
   "metadata": {},
   "outputs": [
    {
     "name": "stdout",
     "output_type": "stream",
     "text": [
      "Neelmai\n"
     ]
    }
   ],
   "source": [
    "y=\"Neelmai\"\n",
    "print(y)"
   ]
  },
  {
   "cell_type": "code",
   "execution_count": 8,
   "id": "098f66c1-9d2e-4c45-8e12-ae56af0f210b",
   "metadata": {},
   "outputs": [
    {
     "data": {
      "text/plain": [
       "str"
      ]
     },
     "execution_count": 8,
     "metadata": {},
     "output_type": "execute_result"
    }
   ],
   "source": [
    "type(y)"
   ]
  },
  {
   "cell_type": "code",
   "execution_count": 10,
   "id": "934cc537-82a1-44c7-ae11-1be8222b2bc4",
   "metadata": {},
   "outputs": [
    {
     "name": "stdout",
     "output_type": "stream",
     "text": [
      "Neelmai\n"
     ]
    }
   ],
   "source": [
    "y=\"Bhardwaj\"\n",
    "y=\"Neelmai\"\n",
    "print(y)"
   ]
  },
  {
   "cell_type": "code",
   "execution_count": 12,
   "id": "04a76c55-bf5b-489c-8a45-a3bb6bff1369",
   "metadata": {},
   "outputs": [
    {
     "name": "stdout",
     "output_type": "stream",
     "text": [
      "chcolate vanilla Rocky Road\n"
     ]
    }
   ],
   "source": [
    "x,y,z=\"chcolate\",\"vanilla\",\"Rocky Road\"\n",
    "print(x,y,z)"
   ]
  },
  {
   "cell_type": "code",
   "execution_count": 14,
   "id": "9fb9dc76-6c1f-4456-b799-b88618e8cbae",
   "metadata": {},
   "outputs": [
    {
     "name": "stdout",
     "output_type": "stream",
     "text": [
      "a\n"
     ]
    }
   ],
   "source": [
    "x=[\"a\",'s',\"z\"]\n",
    "print(x[0])"
   ]
  },
  {
   "cell_type": "code",
   "execution_count": 16,
   "id": "606b84aa-3cd8-4df5-921e-ebd3897a8d62",
   "metadata": {},
   "outputs": [
    {
     "name": "stdout",
     "output_type": "stream",
     "text": [
      "z\n"
     ]
    }
   ],
   "source": [
    "print(x[2])"
   ]
  },
  {
   "cell_type": "code",
   "execution_count": 1,
   "id": "331bcb4c-12d2-4cd8-96ef-28ea130f2e96",
   "metadata": {},
   "outputs": [
    {
     "name": "stdout",
     "output_type": "stream",
     "text": [
      "My name is Neelmani BhardwajI am looking how jupiter notebook works I feel its fairly simple\n"
     ]
    }
   ],
   "source": [
    "x=\"My name is Neelmani Bhardwaj\"\n",
    "y=\"I am looking how jupiter notebook works\"\n",
    "z = print(x+y+\" I feel its fairly simple\")"
   ]
  },
  {
   "cell_type": "code",
   "execution_count": null,
   "id": "e1c087dd-d351-4d4f-b627-cea9376118f8",
   "metadata": {},
   "outputs": [],
   "source": []
  }
 ],
 "metadata": {
  "kernelspec": {
   "display_name": "Python 3 (ipykernel)",
   "language": "python",
   "name": "python3"
  },
  "language_info": {
   "codemirror_mode": {
    "name": "ipython",
    "version": 3
   },
   "file_extension": ".py",
   "mimetype": "text/x-python",
   "name": "python",
   "nbconvert_exporter": "python",
   "pygments_lexer": "ipython3",
   "version": "3.12.4"
  }
 },
 "nbformat": 4,
 "nbformat_minor": 5
}
