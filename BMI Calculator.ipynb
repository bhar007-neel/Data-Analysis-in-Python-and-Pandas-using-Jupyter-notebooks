{
 "cells": [
  {
   "cell_type": "code",
   "execution_count": 31,
   "id": "eada4ff6-e3d3-4a48-b4d3-b5a23804b71d",
   "metadata": {},
   "outputs": [
    {
     "name": "stdin",
     "output_type": "stream",
     "text": [
      "Enter you name Neelmai\n",
      "Enter your weight in pounds:   204\n",
      "Enter your height in inches:   69\n"
     ]
    },
    {
     "name": "stdout",
     "output_type": "stream",
     "text": [
      "You are overwieght\n",
      "Neelmai\n",
      "30.12224322621298\n"
     ]
    }
   ],
   "source": [
    "NAME=input(\"Enter you name\")\n",
    "weight = int(input(\"Enter your weight in pounds:  \"))\n",
    "height = int(input(\"Enter your height in inches:  \"))\n",
    "BMI = (weight*703)/(height*height)\n",
    "print(NAME)\n",
    "print(BMI)\n",
    "if(BMI>0):\n",
    "    if(BMI <= 18.4):\n",
    "        print(\"You are Underweight\")\n",
    "    elif(BMI <=24.9):\n",
    "        print(\"You are normal weight\")\n",
    "    elif(BMI >25.0):\n",
    "        print(\"You are overwieght\")\n",
    "    else:\n",
    "        print(\"you are obese\")\n",
    "else:\n",
    "    print(\"Enter a valid input\")\n"
   ]
  },
  {
   "cell_type": "code",
   "execution_count": null,
   "id": "4d276b81-9810-44f8-9263-28f7fd1e7e5d",
   "metadata": {},
   "outputs": [],
   "source": []
  }
 ],
 "metadata": {
  "kernelspec": {
   "display_name": "Python 3 (ipykernel)",
   "language": "python",
   "name": "python3"
  },
  "language_info": {
   "codemirror_mode": {
    "name": "ipython",
    "version": 3
   },
   "file_extension": ".py",
   "mimetype": "text/x-python",
   "name": "python",
   "nbconvert_exporter": "python",
   "pygments_lexer": "ipython3",
   "version": "3.12.4"
  }
 },
 "nbformat": 4,
 "nbformat_minor": 5
}
