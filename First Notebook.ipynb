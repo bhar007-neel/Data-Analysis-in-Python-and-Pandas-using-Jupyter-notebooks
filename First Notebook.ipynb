{
 "cells": [
  {
   "cell_type": "code",
   "execution_count": 1,
   "id": "dbb32627-69f4-49fe-9b33-b710ede5854f",
   "metadata": {},
   "outputs": [
    {
     "name": "stdout",
     "output_type": "stream",
     "text": [
      "this is my first notebook\n"
     ]
    }
   ],
   "source": [
    "print(\"this is my first notebook\")"
   ]
  },
  {
   "cell_type": "code",
   "execution_count": 1,
   "id": "6098ffee-a515-417a-bf86-9b054d3000ba",
   "metadata": {},
   "outputs": [
    {
     "name": "stdout",
     "output_type": "stream",
     "text": [
      "this is my first notebook\n"
     ]
    }
   ],
   "source": [
    "print(\"this is my first notebook\")"
   ]
  },
  {
   "cell_type": "code",
   "execution_count": null,
   "id": "bf5244df-3db3-4bae-9c93-f08cf6ed9b69",
   "metadata": {},
   "outputs": [],
   "source": []
  },
  {
   "cell_type": "markdown",
   "id": "f525ab88-16c8-4b2f-8bf7-fb2e1ed3998e",
   "metadata": {},
   "source": [
    "# first nitebook and we can also leave comment"
   ]
  },
  {
   "cell_type": "code",
   "execution_count": null,
   "id": "a2a58f3c-f2f4-45f9-9400-d6025357b92e",
   "metadata": {},
   "outputs": [],
   "source": []
  }
 ],
 "metadata": {
  "kernelspec": {
   "display_name": "Python 3 (ipykernel)",
   "language": "python",
   "name": "python3"
  },
  "language_info": {
   "codemirror_mode": {
    "name": "ipython",
    "version": 3
   },
   "file_extension": ".py",
   "mimetype": "text/x-python",
   "name": "python",
   "nbconvert_exporter": "python",
   "pygments_lexer": "ipython3",
   "version": "3.12.4"
  }
 },
 "nbformat": 4,
 "nbformat_minor": 5
}
